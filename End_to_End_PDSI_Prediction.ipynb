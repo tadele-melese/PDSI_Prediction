{
 "cells": [
  {
   "cell_type": "markdown",
   "id": "5dfb46ff-691a-49a3-90f6-f86c2b91b048",
   "metadata": {},
   "source": [
    "## Step 1.  Authenticate GEE , install and required packeges"
   ]
  },
  {
   "cell_type": "code",
   "execution_count": 5,
   "id": "4627d0df-fbc1-466e-801d-be88a7424c86",
   "metadata": {},
   "outputs": [
    {
     "data": {
      "text/html": [
       "\n",
       "            <style>\n",
       "                .geemap-dark {\n",
       "                    --jp-widgets-color: white;\n",
       "                    --jp-widgets-label-color: white;\n",
       "                    --jp-ui-font-color1: white;\n",
       "                    --jp-layout-color2: #454545;\n",
       "                    background-color: #383838;\n",
       "                }\n",
       "\n",
       "                .geemap-dark .jupyter-button {\n",
       "                    --jp-layout-color3: #383838;\n",
       "                }\n",
       "\n",
       "                .geemap-colab {\n",
       "                    background-color: var(--colab-primary-surface-color, white);\n",
       "                }\n",
       "\n",
       "                .geemap-colab .jupyter-button {\n",
       "                    --jp-layout-color3: var(--colab-primary-surface-color, white);\n",
       "                }\n",
       "            </style>\n",
       "            "
      ],
      "text/plain": [
       "<IPython.core.display.HTML object>"
      ]
     },
     "metadata": {},
     "output_type": "display_data"
    }
   ],
   "source": [
    "# Set up the current working directory\n",
    "import os"
   ]
  },
  {
   "cell_type": "code",
   "execution_count": 6,
   "id": "0b468dc9-8aae-4853-b4d4-a29abfac5e45",
   "metadata": {},
   "outputs": [
    {
     "data": {
      "text/html": [
       "\n",
       "            <style>\n",
       "                .geemap-dark {\n",
       "                    --jp-widgets-color: white;\n",
       "                    --jp-widgets-label-color: white;\n",
       "                    --jp-ui-font-color1: white;\n",
       "                    --jp-layout-color2: #454545;\n",
       "                    background-color: #383838;\n",
       "                }\n",
       "\n",
       "                .geemap-dark .jupyter-button {\n",
       "                    --jp-layout-color3: #383838;\n",
       "                }\n",
       "\n",
       "                .geemap-colab {\n",
       "                    background-color: var(--colab-primary-surface-color, white);\n",
       "                }\n",
       "\n",
       "                .geemap-colab .jupyter-button {\n",
       "                    --jp-layout-color3: var(--colab-primary-surface-color, white);\n",
       "                }\n",
       "            </style>\n",
       "            "
      ],
      "text/plain": [
       "<IPython.core.display.HTML object>"
      ]
     },
     "metadata": {},
     "output_type": "display_data"
    },
    {
     "data": {
      "text/plain": [
       "'C:\\\\Users\\\\LEBELA TADELE MELESE'"
      ]
     },
     "execution_count": 6,
     "metadata": {},
     "output_type": "execute_result"
    }
   ],
   "source": [
    "os.getcwd()"
   ]
  },
  {
   "cell_type": "code",
   "execution_count": 7,
   "id": "d499dad3-d8c0-4929-8680-d2eb2415cb45",
   "metadata": {},
   "outputs": [
    {
     "data": {
      "text/html": [
       "\n",
       "            <style>\n",
       "                .geemap-dark {\n",
       "                    --jp-widgets-color: white;\n",
       "                    --jp-widgets-label-color: white;\n",
       "                    --jp-ui-font-color1: white;\n",
       "                    --jp-layout-color2: #454545;\n",
       "                    background-color: #383838;\n",
       "                }\n",
       "\n",
       "                .geemap-dark .jupyter-button {\n",
       "                    --jp-layout-color3: #383838;\n",
       "                }\n",
       "\n",
       "                .geemap-colab {\n",
       "                    background-color: var(--colab-primary-surface-color, white);\n",
       "                }\n",
       "\n",
       "                .geemap-colab .jupyter-button {\n",
       "                    --jp-layout-color3: var(--colab-primary-surface-color, white);\n",
       "                }\n",
       "            </style>\n",
       "            "
      ],
      "text/plain": [
       "<IPython.core.display.HTML object>"
      ]
     },
     "metadata": {},
     "output_type": "display_data"
    }
   ],
   "source": [
    "os.mkdir('PDSI_predicition')"
   ]
  },
  {
   "cell_type": "code",
   "execution_count": 12,
   "id": "9540a56c-5cf4-4cdc-95b8-ca4e4a4f8382",
   "metadata": {},
   "outputs": [
    {
     "data": {
      "text/html": [
       "\n",
       "            <style>\n",
       "                .geemap-dark {\n",
       "                    --jp-widgets-color: white;\n",
       "                    --jp-widgets-label-color: white;\n",
       "                    --jp-ui-font-color1: white;\n",
       "                    --jp-layout-color2: #454545;\n",
       "                    background-color: #383838;\n",
       "                }\n",
       "\n",
       "                .geemap-dark .jupyter-button {\n",
       "                    --jp-layout-color3: #383838;\n",
       "                }\n",
       "\n",
       "                .geemap-colab {\n",
       "                    background-color: var(--colab-primary-surface-color, white);\n",
       "                }\n",
       "\n",
       "                .geemap-colab .jupyter-button {\n",
       "                    --jp-layout-color3: var(--colab-primary-surface-color, white);\n",
       "                }\n",
       "            </style>\n",
       "            "
      ],
      "text/plain": [
       "<IPython.core.display.HTML object>"
      ]
     },
     "metadata": {},
     "output_type": "display_data"
    }
   ],
   "source": [
    "os.chdir('C:\\\\Users\\\\LEBELA TADELE MELESE\\\\PDSI_predicition')"
   ]
  },
  {
   "cell_type": "code",
   "execution_count": 13,
   "id": "92698b0e-8017-48fc-8864-28888e30725d",
   "metadata": {},
   "outputs": [
    {
     "data": {
      "text/html": [
       "\n",
       "            <style>\n",
       "                .geemap-dark {\n",
       "                    --jp-widgets-color: white;\n",
       "                    --jp-widgets-label-color: white;\n",
       "                    --jp-ui-font-color1: white;\n",
       "                    --jp-layout-color2: #454545;\n",
       "                    background-color: #383838;\n",
       "                }\n",
       "\n",
       "                .geemap-dark .jupyter-button {\n",
       "                    --jp-layout-color3: #383838;\n",
       "                }\n",
       "\n",
       "                .geemap-colab {\n",
       "                    background-color: var(--colab-primary-surface-color, white);\n",
       "                }\n",
       "\n",
       "                .geemap-colab .jupyter-button {\n",
       "                    --jp-layout-color3: var(--colab-primary-surface-color, white);\n",
       "                }\n",
       "            </style>\n",
       "            "
      ],
      "text/plain": [
       "<IPython.core.display.HTML object>"
      ]
     },
     "metadata": {},
     "output_type": "display_data"
    },
    {
     "data": {
      "text/plain": [
       "'C:\\\\Users\\\\LEBELA TADELE MELESE\\\\PDSI_predicition'"
      ]
     },
     "execution_count": 13,
     "metadata": {},
     "output_type": "execute_result"
    }
   ],
   "source": [
    "os.getcwd()"
   ]
  },
  {
   "cell_type": "code",
   "execution_count": null,
   "id": "24f12be1-64aa-4167-833d-9396365872a4",
   "metadata": {},
   "outputs": [],
   "source": []
  },
  {
   "cell_type": "code",
   "execution_count": null,
   "id": "6b1dc715-4f5b-43e1-8347-c5c3f8083789",
   "metadata": {},
   "outputs": [],
   "source": []
  },
  {
   "cell_type": "code",
   "execution_count": 1,
   "id": "3c387653-e861-444c-a29f-fb8a45adbca3",
   "metadata": {},
   "outputs": [
    {
     "data": {
      "text/plain": [
       "True"
      ]
     },
     "execution_count": 1,
     "metadata": {},
     "output_type": "execute_result"
    }
   ],
   "source": [
    "import ee\n",
    "import geemap\n",
    "ee.Authenticate()"
   ]
  },
  {
   "cell_type": "code",
   "execution_count": null,
   "id": "bf39a60f-5f80-4507-b16b-e5f4a9ff7730",
   "metadata": {},
   "outputs": [],
   "source": []
  },
  {
   "cell_type": "code",
   "execution_count": null,
   "id": "a37d1ea3-4ca2-4100-b8a7-cfb5eff35025",
   "metadata": {},
   "outputs": [],
   "source": [
    "!pip install pandas numpy matplotlib geopandas rasterio scikit-learn"
   ]
  },
  {
   "cell_type": "markdown",
   "id": "19aea387-bd4a-4e2e-876f-9a8d9799fc13",
   "metadata": {},
   "source": [
    "## Step 2. Preprocess and export climate variables (from Terraclimate) for Ethiopia"
   ]
  },
  {
   "cell_type": "code",
   "execution_count": 2,
   "id": "0086e515-5222-42cb-9543-f5800d57faea",
   "metadata": {},
   "outputs": [
    {
     "data": {
      "text/html": [
       "\n",
       "            <style>\n",
       "                .geemap-dark {\n",
       "                    --jp-widgets-color: white;\n",
       "                    --jp-widgets-label-color: white;\n",
       "                    --jp-ui-font-color1: white;\n",
       "                    --jp-layout-color2: #454545;\n",
       "                    background-color: #383838;\n",
       "                }\n",
       "\n",
       "                .geemap-dark .jupyter-button {\n",
       "                    --jp-layout-color3: #383838;\n",
       "                }\n",
       "\n",
       "                .geemap-colab {\n",
       "                    background-color: var(--colab-primary-surface-color, white);\n",
       "                }\n",
       "\n",
       "                .geemap-colab .jupyter-button {\n",
       "                    --jp-layout-color3: var(--colab-primary-surface-color, white);\n",
       "                }\n",
       "            </style>\n",
       "            "
      ],
      "text/plain": [
       "<IPython.core.display.HTML object>"
      ]
     },
     "metadata": {},
     "output_type": "display_data"
    },
    {
     "name": "stdout",
     "output_type": "stream",
     "text": [
      "Bands in the image: ['pdsi', 'pr', 'tmmx', 'tmmn', 'aet', 'pet', 'soil', 'srad', 'vpd', 'pdsi_1', 'pr_1', 'tmmx_1', 'tmmn_1', 'aet_1', 'pet_1', 'soil_1', 'srad_1', 'vpd_1']\n",
      "Export tasks have been started.\n"
     ]
    }
   ],
   "source": [
    "import ee\n",
    "\n",
    "# Initialize the Earth Engine module.\n",
    "ee.Initialize()\n",
    "\n",
    "# Define the area of interest (Ethiopia boundary).\n",
    "ethiopia = ee.FeatureCollection(\"FAO/GAUL/2015/level0\").filter(ee.Filter.eq('ADM0_NAME', 'Ethiopia'))\n",
    "\n",
    "# Load TerraClimate dataset.\n",
    "terraclimate = ee.ImageCollection(\"IDAHO_EPSCOR/TERRACLIMATE\")\n",
    "\n",
    "# Filter data for the years of interest (e.g., 1980-2023) and Ethiopia\n",
    "start_date = '1980-01-01'\n",
    "end_date = '2023-12-31'\n",
    "\n",
    "# Define the bands of interest\n",
    "bands = ['pdsi', 'pr', 'tmmx', 'tmmn', 'aet', 'pet', 'soil', 'srad', 'vpd']\n",
    "\n",
    "# Filter and select bands\n",
    "terraclimate_filtered = terraclimate.filterDate(start_date, end_date).select(bands)\n",
    "\n",
    "# Clip to Ethiopia boundary\n",
    "terraclimate_ethiopia = terraclimate_filtered.map(lambda image: image.clip(ethiopia))\n",
    "\n",
    "# Define the scale factors for each variable\n",
    "scale_factors = {\n",
    "    'aet': 0.1,\n",
    "    'def': 0.1,\n",
    "    'pdsi': 0.01,\n",
    "    'pet': 0.1,\n",
    "    'pr': 0,\n",
    "    'ro': 0.1,\n",
    "    'soil': 0.1,\n",
    "    'srad': 0.1,\n",
    "    'swe': 0.1,\n",
    "    'tmmn': 0.1,\n",
    "    'tmmx': 0.1,\n",
    "    'vap': 0.001,\n",
    "    'vpd': 0.01,\n",
    "    'vs': 1  # No scale factor provided\n",
    "}\n",
    "\n",
    "def apply_scale(image):\n",
    "    # Apply scale factors to each band\n",
    "    scaled_image = image\n",
    "    for band in bands:\n",
    "        if band in scale_factors:\n",
    "            # Apply scale factor to the band\n",
    "            scaled_image = scaled_image.addBands(image.select(band).multiply(scale_factors[band]).rename(band))\n",
    "    return scaled_image\n",
    "\n",
    "# Apply scale factors to the image collection\n",
    "scaled_terraclimate_ethiopia = terraclimate_ethiopia.map(apply_scale)\n",
    "\n",
    "# Aggregate monthly data\n",
    "monthly_terraclimate_ethiopia = scaled_terraclimate_ethiopia.mean()\n",
    "\n",
    "# Verify band names in the aggregated image\n",
    "def print_band_names(image):\n",
    "    bands = image.bandNames().getInfo()\n",
    "    print(\"Bands in the image:\", bands)\n",
    "\n",
    "# Print band names to debug\n",
    "print_band_names(monthly_terraclimate_ethiopia)\n",
    "\n",
    "# Export each variable to Google Drive\n",
    "for band in bands:\n",
    "    # Select the band of interest\n",
    "    if band in monthly_terraclimate_ethiopia.bandNames().getInfo():\n",
    "        image = monthly_terraclimate_ethiopia.select(band)\n",
    "        \n",
    "        # Export the data to Google Drive\n",
    "        export_task = ee.batch.Export.image.toDrive(\n",
    "            image=image,\n",
    "            description=f'Ethiopia_{band}_Monthly_Scaled',\n",
    "            folder='EarthEngine',\n",
    "            scale=4000,\n",
    "            region=ethiopia.geometry(),\n",
    "            fileFormat='GeoTIFF'\n",
    "        )\n",
    "        \n",
    "        # Start the export task\n",
    "        export_task.start()\n",
    "    else:\n",
    "        print(f\"Band {band} not found in the aggregated image.\")\n",
    "\n",
    "print(\"Export tasks have been started.\")\n"
   ]
  },
  {
   "cell_type": "code",
   "execution_count": null,
   "id": "94d27cdb-090b-4b4a-a972-c80361e5701a",
   "metadata": {},
   "outputs": [],
   "source": []
  }
 ],
 "metadata": {
  "kernelspec": {
   "display_name": "Python 3 (ipykernel)",
   "language": "python",
   "name": "python3"
  },
  "language_info": {
   "codemirror_mode": {
    "name": "ipython",
    "version": 3
   },
   "file_extension": ".py",
   "mimetype": "text/x-python",
   "name": "python",
   "nbconvert_exporter": "python",
   "pygments_lexer": "ipython3",
   "version": "3.12.5"
  }
 },
 "nbformat": 4,
 "nbformat_minor": 5
}
